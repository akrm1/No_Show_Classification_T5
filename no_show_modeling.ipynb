{
 "cells": [
  {
   "cell_type": "code",
   "execution_count": null,
   "metadata": {
    "id": "7hpuoJPqtnYQ"
   },
   "outputs": [],
   "source": [
    "import numpy as np\n",
    "import pandas as pd\n",
    "import matplotlib.pyplot as plt\n",
    "import seaborn as sns\n",
    "import plotly.express as px\n",
    "%matplotlib inline\n",
    "\n",
    "from sklearn.feature_selection import SelectKBest\n",
    "from sklearn.feature_selection import f_classif\n",
    "from sklearn.feature_selection import SelectFromModel\n",
    "\n",
    "from imblearn.combine import SMOTETomek\n",
    "from imblearn.over_sampling import SMOTE\n",
    "\n",
    "from sklearn.neighbors import KNeighborsClassifier\n",
    "from sklearn.linear_model import LogisticRegression\n",
    "from sklearn.tree import DecisionTreeClassifier\n",
    "from sklearn.ensemble import RandomForestClassifier\n",
    "from sklearn.svm import SVC\n",
    "import xgboost as xgb\n",
    "from sklearn.ensemble import StackingClassifier\n",
    "from sklearn.decomposition import PCA\n",
    "\n",
    "from sklearn.model_selection import train_test_split, cross_val_score\n",
    "from sklearn.experimental import enable_halving_search_cv\n",
    "from sklearn.model_selection import GridSearchCV, RandomizedSearchCV, HalvingGridSearchCV, HalvingRandomSearchCV\n",
    "from sklearn.metrics import accuracy_score, precision_score, recall_score, f1_score, classification_report\n",
    "from sklearn.metrics import confusion_matrix, plot_confusion_matrix, ConfusionMatrixDisplay\n",
    "from sklearn.preprocessing import StandardScaler"
   ]
  },
  {
   "cell_type": "markdown",
   "metadata": {
    "id": "58LjMAml3VG1"
   },
   "source": [
    "# **Read Data:**"
   ]
  },
  {
   "cell_type": "code",
   "execution_count": null,
   "metadata": {
    "colab": {
     "base_uri": "https://localhost:8080/"
    },
    "id": "xkcIgFXyt6KF",
    "outputId": "02ea0c08-8d35-45b7-8af1-f194baeb8f60"
   },
   "outputs": [
    {
     "name": "stdout",
     "output_type": "stream",
     "text": [
      "Mounted at /content/drive\n"
     ]
    }
   ],
   "source": [
    "# Connect google drive account\n",
    "\n",
    "#from google.colab import drive\n",
    "#drive.mount('/content/drive')"
   ]
  },
  {
   "cell_type": "code",
   "execution_count": null,
   "metadata": {
    "id": "XibVdZOct88M"
   },
   "outputs": [],
   "source": [
    "path = \"/content/drive/MyDrive/T5_Camp/\"\n",
    "file_name = \"cleaned_records.csv\"\n",
    "cleaned_records = pd.read_csv(path + file_name)"
   ]
  },
  {
   "cell_type": "code",
   "execution_count": null,
   "metadata": {
    "colab": {
     "base_uri": "https://localhost:8080/",
     "height": 143
    },
    "id": "Q7pZzuHkvZrv",
    "outputId": "e93e2d96-1472-4ed7-fe3b-d9436e9c4416"
   },
   "outputs": [
    {
     "data": {
      "text/html": [
       "\n",
       "  <div id=\"df-139d5e49-63da-430f-a7e5-c85678846a86\">\n",
       "    <div class=\"colab-df-container\">\n",
       "      <div>\n",
       "<style scoped>\n",
       "    .dataframe tbody tr th:only-of-type {\n",
       "        vertical-align: middle;\n",
       "    }\n",
       "\n",
       "    .dataframe tbody tr th {\n",
       "        vertical-align: top;\n",
       "    }\n",
       "\n",
       "    .dataframe thead th {\n",
       "        text-align: right;\n",
       "    }\n",
       "</style>\n",
       "<table border=\"1\" class=\"dataframe\">\n",
       "  <thead>\n",
       "    <tr style=\"text-align: right;\">\n",
       "      <th></th>\n",
       "      <th>PatientId</th>\n",
       "      <th>Gender</th>\n",
       "      <th>ScheduledDay</th>\n",
       "      <th>AppointmentDay</th>\n",
       "      <th>Age</th>\n",
       "      <th>Neighbourhood</th>\n",
       "      <th>Scholarship</th>\n",
       "      <th>Hipertension</th>\n",
       "      <th>Diabetes</th>\n",
       "      <th>Alcoholism</th>\n",
       "      <th>Handcap</th>\n",
       "      <th>SMS_received</th>\n",
       "      <th>show</th>\n",
       "      <th>appointment_time</th>\n",
       "      <th>sameday</th>\n",
       "      <th>sameweek</th>\n",
       "      <th>samemonth</th>\n",
       "    </tr>\n",
       "  </thead>\n",
       "  <tbody>\n",
       "    <tr>\n",
       "      <th>0</th>\n",
       "      <td>29872499824296</td>\n",
       "      <td>0</td>\n",
       "      <td>2016-04-29</td>\n",
       "      <td>2016-04-29</td>\n",
       "      <td>62</td>\n",
       "      <td>JARDIM DA PENHA</td>\n",
       "      <td>0</td>\n",
       "      <td>1</td>\n",
       "      <td>0</td>\n",
       "      <td>0</td>\n",
       "      <td>0</td>\n",
       "      <td>0</td>\n",
       "      <td>1</td>\n",
       "      <td>0</td>\n",
       "      <td>1</td>\n",
       "      <td>1</td>\n",
       "      <td>1</td>\n",
       "    </tr>\n",
       "    <tr>\n",
       "      <th>1</th>\n",
       "      <td>558997776694438</td>\n",
       "      <td>1</td>\n",
       "      <td>2016-04-29</td>\n",
       "      <td>2016-04-29</td>\n",
       "      <td>56</td>\n",
       "      <td>JARDIM DA PENHA</td>\n",
       "      <td>0</td>\n",
       "      <td>0</td>\n",
       "      <td>0</td>\n",
       "      <td>0</td>\n",
       "      <td>0</td>\n",
       "      <td>0</td>\n",
       "      <td>1</td>\n",
       "      <td>0</td>\n",
       "      <td>1</td>\n",
       "      <td>1</td>\n",
       "      <td>1</td>\n",
       "    </tr>\n",
       "    <tr>\n",
       "      <th>2</th>\n",
       "      <td>4262962299951</td>\n",
       "      <td>0</td>\n",
       "      <td>2016-04-29</td>\n",
       "      <td>2016-04-29</td>\n",
       "      <td>62</td>\n",
       "      <td>MATA DA PRAIA</td>\n",
       "      <td>0</td>\n",
       "      <td>0</td>\n",
       "      <td>0</td>\n",
       "      <td>0</td>\n",
       "      <td>0</td>\n",
       "      <td>0</td>\n",
       "      <td>1</td>\n",
       "      <td>0</td>\n",
       "      <td>1</td>\n",
       "      <td>1</td>\n",
       "      <td>1</td>\n",
       "    </tr>\n",
       "  </tbody>\n",
       "</table>\n",
       "</div>\n",
       "      <button class=\"colab-df-convert\" onclick=\"convertToInteractive('df-139d5e49-63da-430f-a7e5-c85678846a86')\"\n",
       "              title=\"Convert this dataframe to an interactive table.\"\n",
       "              style=\"display:none;\">\n",
       "        \n",
       "  <svg xmlns=\"http://www.w3.org/2000/svg\" height=\"24px\"viewBox=\"0 0 24 24\"\n",
       "       width=\"24px\">\n",
       "    <path d=\"M0 0h24v24H0V0z\" fill=\"none\"/>\n",
       "    <path d=\"M18.56 5.44l.94 2.06.94-2.06 2.06-.94-2.06-.94-.94-2.06-.94 2.06-2.06.94zm-11 1L8.5 8.5l.94-2.06 2.06-.94-2.06-.94L8.5 2.5l-.94 2.06-2.06.94zm10 10l.94 2.06.94-2.06 2.06-.94-2.06-.94-.94-2.06-.94 2.06-2.06.94z\"/><path d=\"M17.41 7.96l-1.37-1.37c-.4-.4-.92-.59-1.43-.59-.52 0-1.04.2-1.43.59L10.3 9.45l-7.72 7.72c-.78.78-.78 2.05 0 2.83L4 21.41c.39.39.9.59 1.41.59.51 0 1.02-.2 1.41-.59l7.78-7.78 2.81-2.81c.8-.78.8-2.07 0-2.86zM5.41 20L4 18.59l7.72-7.72 1.47 1.35L5.41 20z\"/>\n",
       "  </svg>\n",
       "      </button>\n",
       "      \n",
       "  <style>\n",
       "    .colab-df-container {\n",
       "      display:flex;\n",
       "      flex-wrap:wrap;\n",
       "      gap: 12px;\n",
       "    }\n",
       "\n",
       "    .colab-df-convert {\n",
       "      background-color: #E8F0FE;\n",
       "      border: none;\n",
       "      border-radius: 50%;\n",
       "      cursor: pointer;\n",
       "      display: none;\n",
       "      fill: #1967D2;\n",
       "      height: 32px;\n",
       "      padding: 0 0 0 0;\n",
       "      width: 32px;\n",
       "    }\n",
       "\n",
       "    .colab-df-convert:hover {\n",
       "      background-color: #E2EBFA;\n",
       "      box-shadow: 0px 1px 2px rgba(60, 64, 67, 0.3), 0px 1px 3px 1px rgba(60, 64, 67, 0.15);\n",
       "      fill: #174EA6;\n",
       "    }\n",
       "\n",
       "    [theme=dark] .colab-df-convert {\n",
       "      background-color: #3B4455;\n",
       "      fill: #D2E3FC;\n",
       "    }\n",
       "\n",
       "    [theme=dark] .colab-df-convert:hover {\n",
       "      background-color: #434B5C;\n",
       "      box-shadow: 0px 1px 3px 1px rgba(0, 0, 0, 0.15);\n",
       "      filter: drop-shadow(0px 1px 2px rgba(0, 0, 0, 0.3));\n",
       "      fill: #FFFFFF;\n",
       "    }\n",
       "  </style>\n",
       "\n",
       "      <script>\n",
       "        const buttonEl =\n",
       "          document.querySelector('#df-139d5e49-63da-430f-a7e5-c85678846a86 button.colab-df-convert');\n",
       "        buttonEl.style.display =\n",
       "          google.colab.kernel.accessAllowed ? 'block' : 'none';\n",
       "\n",
       "        async function convertToInteractive(key) {\n",
       "          const element = document.querySelector('#df-139d5e49-63da-430f-a7e5-c85678846a86');\n",
       "          const dataTable =\n",
       "            await google.colab.kernel.invokeFunction('convertToInteractive',\n",
       "                                                     [key], {});\n",
       "          if (!dataTable) return;\n",
       "\n",
       "          const docLinkHtml = 'Like what you see? Visit the ' +\n",
       "            '<a target=\"_blank\" href=https://colab.research.google.com/notebooks/data_table.ipynb>data table notebook</a>'\n",
       "            + ' to learn more about interactive tables.';\n",
       "          element.innerHTML = '';\n",
       "          dataTable['output_type'] = 'display_data';\n",
       "          await google.colab.output.renderOutput(dataTable, element);\n",
       "          const docLink = document.createElement('div');\n",
       "          docLink.innerHTML = docLinkHtml;\n",
       "          element.appendChild(docLink);\n",
       "        }\n",
       "      </script>\n",
       "    </div>\n",
       "  </div>\n",
       "  "
      ],
      "text/plain": [
       "         PatientId  Gender ScheduledDay  ... sameday  sameweek samemonth\n",
       "0   29872499824296       0   2016-04-29  ...       1         1         1\n",
       "1  558997776694438       1   2016-04-29  ...       1         1         1\n",
       "2    4262962299951       0   2016-04-29  ...       1         1         1\n",
       "\n",
       "[3 rows x 17 columns]"
      ]
     },
     "execution_count": 4,
     "metadata": {},
     "output_type": "execute_result"
    }
   ],
   "source": [
    "cleaned_records.head(3)"
   ]
  },
  {
   "cell_type": "markdown",
   "metadata": {
    "id": "AkiVZXI9vcyG"
   },
   "source": [
    "---\n",
    "# **Classification Build & Testing:**"
   ]
  },
  {
   "cell_type": "markdown",
   "metadata": {
    "id": "jrMZ57tzBvvZ"
   },
   "source": [
    "## Setup Training & Testing Sets:"
   ]
  },
  {
   "cell_type": "code",
   "execution_count": null,
   "metadata": {
    "id": "d0aNlEgC35aE"
   },
   "outputs": [],
   "source": [
    "class OurFeaturesSelection():\n",
    "  def __init__(self, x_train, y_train) -> None:\n",
    "    self.x_train = x_train\n",
    "    self.selection = SelectFromModel(RandomForestClassifier(n_estimators=100))\n",
    "    self.selection.fit(x_train, y_train)\n",
    "\n",
    "  def get_selected_features(self):\n",
    "    return self.x_train.columns[self.selection.get_support()]\n",
    "\n",
    "  def plot_selected_features(self, figsize=(16,8), color='green'):\n",
    "    x_axis = pd.Series(self.selection.estimator_.feature_importances_.ravel())\n",
    "    y_axis = pd.Series(self.x_train.columns)\n",
    "\n",
    "    plt.figure(figsize=figsize)\n",
    "    return sns.barplot(x=y_axis, y=x_axis, color=color);\n",
    "  \n",
    "  def get_importance(self):\n",
    "    return self.selection.estimator_.feature_importances_"
   ]
  },
  {
   "cell_type": "code",
   "execution_count": null,
   "metadata": {
    "id": "jd-rgI52vjuW"
   },
   "outputs": [],
   "source": [
    "X = cleaned_records[['Gender', 'Age', 'Scholarship', 'Hipertension', 'Diabetes', 'Alcoholism', 'Handcap', 'SMS_received', 'appointment_time', 'sameday']]\n",
    "y = cleaned_records['show']"
   ]
  },
  {
   "cell_type": "code",
   "execution_count": null,
   "metadata": {
    "id": "q1Eoh53TjQcC"
   },
   "outputs": [],
   "source": [
    "cv = 5\n",
    "x_train, x_test, y_train, y_test = train_test_split(X, y, test_size=0.2, random_state=72)\n",
    "\n",
    "selection = OurFeaturesSelection(x_train, y_train)\n",
    "x_train_selected =  x_train[selection.get_selected_features()]"
   ]
  },
  {
   "cell_type": "code",
   "execution_count": null,
   "metadata": {
    "colab": {
     "base_uri": "https://localhost:8080/",
     "height": 424
    },
    "id": "aR9uACuMjd4j",
    "outputId": "7539e0f8-8605-4550-f9ed-20ae4a2fca76"
   },
   "outputs": [
    {
     "data": {
      "text/html": [
       "\n",
       "  <div id=\"df-04b1120c-7263-494b-9a73-8a639a5a5206\">\n",
       "    <div class=\"colab-df-container\">\n",
       "      <div>\n",
       "<style scoped>\n",
       "    .dataframe tbody tr th:only-of-type {\n",
       "        vertical-align: middle;\n",
       "    }\n",
       "\n",
       "    .dataframe tbody tr th {\n",
       "        vertical-align: top;\n",
       "    }\n",
       "\n",
       "    .dataframe thead th {\n",
       "        text-align: right;\n",
       "    }\n",
       "</style>\n",
       "<table border=\"1\" class=\"dataframe\">\n",
       "  <thead>\n",
       "    <tr style=\"text-align: right;\">\n",
       "      <th></th>\n",
       "      <th>Age</th>\n",
       "      <th>appointment_time</th>\n",
       "    </tr>\n",
       "  </thead>\n",
       "  <tbody>\n",
       "    <tr>\n",
       "      <th>48329</th>\n",
       "      <td>6</td>\n",
       "      <td>29</td>\n",
       "    </tr>\n",
       "    <tr>\n",
       "      <th>58752</th>\n",
       "      <td>2</td>\n",
       "      <td>28</td>\n",
       "    </tr>\n",
       "    <tr>\n",
       "      <th>100213</th>\n",
       "      <td>71</td>\n",
       "      <td>42</td>\n",
       "    </tr>\n",
       "    <tr>\n",
       "      <th>18328</th>\n",
       "      <td>30</td>\n",
       "      <td>0</td>\n",
       "    </tr>\n",
       "    <tr>\n",
       "      <th>6850</th>\n",
       "      <td>59</td>\n",
       "      <td>2</td>\n",
       "    </tr>\n",
       "    <tr>\n",
       "      <th>...</th>\n",
       "      <td>...</td>\n",
       "      <td>...</td>\n",
       "    </tr>\n",
       "    <tr>\n",
       "      <th>85861</th>\n",
       "      <td>49</td>\n",
       "      <td>15</td>\n",
       "    </tr>\n",
       "    <tr>\n",
       "      <th>7242</th>\n",
       "      <td>31</td>\n",
       "      <td>21</td>\n",
       "    </tr>\n",
       "    <tr>\n",
       "      <th>70702</th>\n",
       "      <td>55</td>\n",
       "      <td>13</td>\n",
       "    </tr>\n",
       "    <tr>\n",
       "      <th>63251</th>\n",
       "      <td>55</td>\n",
       "      <td>0</td>\n",
       "    </tr>\n",
       "    <tr>\n",
       "      <th>78296</th>\n",
       "      <td>53</td>\n",
       "      <td>0</td>\n",
       "    </tr>\n",
       "  </tbody>\n",
       "</table>\n",
       "<p>88416 rows × 2 columns</p>\n",
       "</div>\n",
       "      <button class=\"colab-df-convert\" onclick=\"convertToInteractive('df-04b1120c-7263-494b-9a73-8a639a5a5206')\"\n",
       "              title=\"Convert this dataframe to an interactive table.\"\n",
       "              style=\"display:none;\">\n",
       "        \n",
       "  <svg xmlns=\"http://www.w3.org/2000/svg\" height=\"24px\"viewBox=\"0 0 24 24\"\n",
       "       width=\"24px\">\n",
       "    <path d=\"M0 0h24v24H0V0z\" fill=\"none\"/>\n",
       "    <path d=\"M18.56 5.44l.94 2.06.94-2.06 2.06-.94-2.06-.94-.94-2.06-.94 2.06-2.06.94zm-11 1L8.5 8.5l.94-2.06 2.06-.94-2.06-.94L8.5 2.5l-.94 2.06-2.06.94zm10 10l.94 2.06.94-2.06 2.06-.94-2.06-.94-.94-2.06-.94 2.06-2.06.94z\"/><path d=\"M17.41 7.96l-1.37-1.37c-.4-.4-.92-.59-1.43-.59-.52 0-1.04.2-1.43.59L10.3 9.45l-7.72 7.72c-.78.78-.78 2.05 0 2.83L4 21.41c.39.39.9.59 1.41.59.51 0 1.02-.2 1.41-.59l7.78-7.78 2.81-2.81c.8-.78.8-2.07 0-2.86zM5.41 20L4 18.59l7.72-7.72 1.47 1.35L5.41 20z\"/>\n",
       "  </svg>\n",
       "      </button>\n",
       "      \n",
       "  <style>\n",
       "    .colab-df-container {\n",
       "      display:flex;\n",
       "      flex-wrap:wrap;\n",
       "      gap: 12px;\n",
       "    }\n",
       "\n",
       "    .colab-df-convert {\n",
       "      background-color: #E8F0FE;\n",
       "      border: none;\n",
       "      border-radius: 50%;\n",
       "      cursor: pointer;\n",
       "      display: none;\n",
       "      fill: #1967D2;\n",
       "      height: 32px;\n",
       "      padding: 0 0 0 0;\n",
       "      width: 32px;\n",
       "    }\n",
       "\n",
       "    .colab-df-convert:hover {\n",
       "      background-color: #E2EBFA;\n",
       "      box-shadow: 0px 1px 2px rgba(60, 64, 67, 0.3), 0px 1px 3px 1px rgba(60, 64, 67, 0.15);\n",
       "      fill: #174EA6;\n",
       "    }\n",
       "\n",
       "    [theme=dark] .colab-df-convert {\n",
       "      background-color: #3B4455;\n",
       "      fill: #D2E3FC;\n",
       "    }\n",
       "\n",
       "    [theme=dark] .colab-df-convert:hover {\n",
       "      background-color: #434B5C;\n",
       "      box-shadow: 0px 1px 3px 1px rgba(0, 0, 0, 0.15);\n",
       "      filter: drop-shadow(0px 1px 2px rgba(0, 0, 0, 0.3));\n",
       "      fill: #FFFFFF;\n",
       "    }\n",
       "  </style>\n",
       "\n",
       "      <script>\n",
       "        const buttonEl =\n",
       "          document.querySelector('#df-04b1120c-7263-494b-9a73-8a639a5a5206 button.colab-df-convert');\n",
       "        buttonEl.style.display =\n",
       "          google.colab.kernel.accessAllowed ? 'block' : 'none';\n",
       "\n",
       "        async function convertToInteractive(key) {\n",
       "          const element = document.querySelector('#df-04b1120c-7263-494b-9a73-8a639a5a5206');\n",
       "          const dataTable =\n",
       "            await google.colab.kernel.invokeFunction('convertToInteractive',\n",
       "                                                     [key], {});\n",
       "          if (!dataTable) return;\n",
       "\n",
       "          const docLinkHtml = 'Like what you see? Visit the ' +\n",
       "            '<a target=\"_blank\" href=https://colab.research.google.com/notebooks/data_table.ipynb>data table notebook</a>'\n",
       "            + ' to learn more about interactive tables.';\n",
       "          element.innerHTML = '';\n",
       "          dataTable['output_type'] = 'display_data';\n",
       "          await google.colab.output.renderOutput(dataTable, element);\n",
       "          const docLink = document.createElement('div');\n",
       "          docLink.innerHTML = docLinkHtml;\n",
       "          element.appendChild(docLink);\n",
       "        }\n",
       "      </script>\n",
       "    </div>\n",
       "  </div>\n",
       "  "
      ],
      "text/plain": [
       "        Age  appointment_time\n",
       "48329     6                29\n",
       "58752     2                28\n",
       "100213   71                42\n",
       "18328    30                 0\n",
       "6850     59                 2\n",
       "...     ...               ...\n",
       "85861    49                15\n",
       "7242     31                21\n",
       "70702    55                13\n",
       "63251    55                 0\n",
       "78296    53                 0\n",
       "\n",
       "[88416 rows x 2 columns]"
      ]
     },
     "execution_count": 24,
     "metadata": {},
     "output_type": "execute_result"
    }
   ],
   "source": [
    "x_train_selected"
   ]
  },
  {
   "cell_type": "code",
   "execution_count": null,
   "metadata": {
    "colab": {
     "base_uri": "https://localhost:8080/"
    },
    "id": "2bbpOQNgQeV-",
    "outputId": "b5134331-dee0-46b6-a5a5-05bc30930110"
   },
   "outputs": [
    {
     "data": {
      "text/plain": [
       "array([0.01523972, 0.42030266, 0.00755944, 0.00971518, 0.00786767,\n",
       "       0.00633242, 0.008524  , 0.01633997, 0.44181541, 0.06630353])"
      ]
     },
     "execution_count": 25,
     "metadata": {},
     "output_type": "execute_result"
    }
   ],
   "source": [
    "selection.get_importance()"
   ]
  },
  {
   "cell_type": "code",
   "execution_count": null,
   "metadata": {
    "colab": {
     "base_uri": "https://localhost:8080/",
     "height": 484
    },
    "id": "YbPnnx-nPcD8",
    "outputId": "44006ed6-6526-480c-f581-bbb3db460857"
   },
   "outputs": [
    {
     "data": {
      "image/png": "[encoded data removed]",
      "text/plain": [
       "<Figure size 1152x576 with 1 Axes>"
      ]
     },
     "metadata": {
      "needs_background": "light"
     },
     "output_type": "display_data"
    }
   ],
   "source": [
    "selection.plot_selected_features(color='blue');"
   ]
  },
  {
   "cell_type": "code",
   "execution_count": null,
   "metadata": {
    "id": "MC6pz1c6vmgX"
   },
   "outputs": [],
   "source": [
    "cv = 5\n",
    "x_train, x_test, y_train, y_test = train_test_split(X, y, test_size=0.2, random_state=72)\n",
    "\n",
    "selection = OurFeaturesSelection(x_train, y_train)\n",
    "x_train_selected =  x_train[selection.get_selected_features()]\n",
    "x_test_selected =  x_test[selection.get_selected_features()]\n",
    "\n",
    "scaler = StandardScaler()\n",
    "\n",
    "x_train_selected_scaled = scaler.fit_transform(x_train_selected.values)\n",
    "x_test_selected_scaled = scaler.transform(x_test_selected.values)"
   ]
  },
  {
   "cell_type": "code",
   "execution_count": null,
   "metadata": {
    "id": "VX7CZ5Balx1T"
   },
   "outputs": [],
   "source": [
    "smote_tomek = SMOTETomek()\n",
    "x_resamp_selected, y_resamp = smote_tomek.fit_resample(x_train_selected, y_train)\n",
    "\n",
    "x_resamp_selected_scaled = scaler.fit_transform(x_resamp_selected.values)"
   ]
  },
  {
   "cell_type": "code",
   "execution_count": null,
   "metadata": {
    "id": "46ChmEamln5A"
   },
   "outputs": [],
   "source": [
    "smote = SMOTE()\n",
    "x_over_selected, y_over = smote.fit_resample(x_train_selected, y_train)\n",
    "x_over_selected_scaled = scaler.fit_transform(x_over_selected.values)"
   ]
  },
  {
   "cell_type": "markdown",
   "metadata": {
    "id": "CgAdYsZKOvII"
   },
   "source": [
    "- x_train: all train features\n",
    "- x_test: all test features\n",
    "- x_train_selected: selected train features\n",
    "- x_test_selected: selected test features\n",
    "- x_train_selected_scaled: selected train features scaled\n",
    "- x_test_selected_scaled: selected test features scaled\n",
    "---\n",
    "- y_train: train target\n",
    "- y_test: test target\n",
    "---\n",
    "- x_resamp_selected: (oversample+undersample) selected train features\n",
    "- x_resamp_selected_scaled: (oversample+undersample) selected train features scaled\n",
    "- y_resamp: (oversample+undersample) selected train target\n",
    "- x_over_selected: (oversample) selected train features\n",
    "- x_over_selected_scaled: (oversample) selected train features scaled\n",
    "- y_over: (oversample) selected train target\n"
   ]
  },
  {
   "cell_type": "markdown",
   "metadata": {
    "id": "Bk1s6F-C3EhE"
   },
   "source": [
    "## Define Modieling Functions:"
   ]
  },
  {
   "cell_type": "code",
   "execution_count": null,
   "metadata": {
    "id": "4n66hhAQvoiJ"
   },
   "outputs": [],
   "source": [
    "def evaluate_model(model, x_test, y_test, label, plot_wait_time=1):\n",
    "  plt.show(block=False)\n",
    "\n",
    "  y_pred = model.predict(x_test)\n",
    "\n",
    "  print(\"***********************************************************************\")\n",
    "  print(\"#\" + label + \":\")\n",
    "  print(\"--------------------------------------------------\")\n",
    "\n",
    "  print(\"\\tAccuracy Score: \" + str(accuracy_score(y_test, y_pred)) + '\\n\\n')\n",
    "  print(classification_report(y_test, y_pred))\n",
    "  print(\"--------------------------------------------------\")\n",
    "  print(\"Confusion Matrix:\")\n",
    "  grid_confusion_matrix = confusion_matrix(y_test, y_pred)\n",
    "  grid_display = ConfusionMatrixDisplay(confusion_matrix=grid_confusion_matrix)\n",
    "  grid_display.plot()\n",
    "  plt.pause(plot_wait_time)\n",
    "  plt.close()\n",
    "  print(\"***********************************************************************\\n\\n\")\n",
    "\n",
    "\n",
    "def evaluation_result(search_algorithm, x_test, y_test, label, plot_wait_time=1):\n",
    "  plt.show(block=False)\n",
    "\n",
    "  print(\"***********************************************************************\")\n",
    "  print(\"#\" + label + \":\")\n",
    "  print(\"--------------------------------------------------\")\n",
    "  print (\"\\tBest Score: \",str(search_algorithm.best_score_))\n",
    "  print (\"\\tBest Parameters: \",str(search_algorithm.best_params_))\n",
    "  print (\"\\tBest Estimators: \",str(search_algorithm.best_estimator_))\n",
    "\n",
    "  y_pred = search_algorithm.predict(x_test)\n",
    "\n",
    "  print(\"\\tAccuracy Score: \" + str(accuracy_score(y_test, y_pred)) + '\\n\\n')\n",
    "  print(classification_report(y_test, y_pred))\n",
    "  print(\"--------------------------------------------------\")\n",
    "  print(\"Confusion Matrix:\")\n",
    "  grid_confusion_matrix = confusion_matrix(y_test, y_pred)\n",
    "  grid_display = ConfusionMatrixDisplay(confusion_matrix=grid_confusion_matrix)\n",
    "  grid_display.plot()\n",
    "  plt.pause(plot_wait_time)\n",
    "  plt.close()\n",
    "  print(\"***********************************************************************\\n\\n\")\n",
    "\n",
    "\n",
    "\n",
    "def modeling(model, x_train, x_test, y_train, y_test, hyper_params, model_label, cv=5,\n",
    "             scoring='accuracy', random_state=5, verbose=3, n_jobs=-1, show_results=False):\n",
    "  \n",
    "  grid = GridSearchCV(estimator=model, param_grid=hyper_params, scoring=scoring, verbose=verbose, n_jobs=n_jobs, cv=cv)\n",
    "  grid.fit(x_train, y_train)\n",
    "  if show_results:\n",
    "    evaluation_result(grid, x_test, y_test, model_label + \" Grid Search\")\n",
    "  \n",
    "  rand = RandomizedSearchCV(estimator=model, param_distributions=hyper_params, scoring=scoring,\n",
    "                            verbose=verbose, n_jobs=n_jobs, cv=cv, random_state=random_state)\n",
    "  rand.fit(x_train, y_train)\n",
    "  if show_results:\n",
    "    evaluation_result(rand, x_test, y_test, model_label + \" Random Search\")\n",
    "\n",
    "  return grid, rand\n",
    "\n"
   ]
  },
  {
   "cell_type": "code",
   "execution_count": null,
   "metadata": {
    "id": "Cjx5gkmjvqs5"
   },
   "outputs": [],
   "source": [
    "def knn_model(x_train, x_test, y_train, y_test, cv=5, show_results=False):\n",
    "  hyper_params = {\n",
    "    'n_neighbors': list(range(1,16)),\n",
    "    'weights': ['uniform','distance']\n",
    "    }\n",
    "\n",
    "  return modeling(KNeighborsClassifier(), x_train, x_test, y_train, y_test, hyper_params, \"KNN\", cv=cv, show_results=show_results)"
   ]
  },
  {
   "cell_type": "code",
   "execution_count": null,
   "metadata": {
    "id": "qMGipFIRvsgA"
   },
   "outputs": [],
   "source": [
    "def logistic_model(x_train, x_test, y_train, y_test, cv=5, show_results=False):\n",
    "  hyper_params = {\n",
    "    'penalty': ['l1', 'l2'],\n",
    "    'C': [0.5, 0.6, 0.7, 0.8],\n",
    "    'solver': ['liblinear', 'saga']\n",
    "    }\n",
    "\n",
    "  return modeling(LogisticRegression(), x_train, x_test, y_train, y_test, hyper_params, \"Logistic\", cv=cv, show_results=show_results)"
   ]
  },
  {
   "cell_type": "code",
   "execution_count": null,
   "metadata": {
    "id": "E5bsORG-vuAA"
   },
   "outputs": [],
   "source": [
    "def decision_tree_model(x_train, x_test, y_train, y_test, cv=5, show_results=False):\n",
    "  hyper_params = {\n",
    "    'max_depth': [2, 3, 5, 10],\n",
    "    'max_features': ['auto', 'sqrt', 'log2'],\n",
    "    'criterion': [\"gini\", \"entropy\"]\n",
    "    }\n",
    "\n",
    "  tree_model = DecisionTreeClassifier()\n",
    "  return modeling(tree_model, x_train, x_test, y_train, y_test, hyper_params, \"Decision Tree\", cv=cv, show_results=show_results)"
   ]
  },
  {
   "cell_type": "code",
   "execution_count": null,
   "metadata": {
    "id": "C9tOZlJtvveL"
   },
   "outputs": [],
   "source": [
    "def random_forest_model(x_train, x_test, y_train, y_test, cv=5, show_results=False):\n",
    "  hyper_params = {\n",
    "    'max_depth': [4, 7],\n",
    "    'max_features': ['auto', 'sqrt', 'log2'],\n",
    "    \"n_estimators\": [10, 20, 30],\n",
    "    \"criterion\" : [\"gini\", \"entropy\"]\n",
    "    }\n",
    "\n",
    "  rf_model = RandomForestClassifier(random_state=71)\n",
    "  return modeling(rf_model, x_train, x_test, y_train, y_test, hyper_params, \"Random Forest\", cv=cv, show_results=show_results)"
   ]
  },
  {
   "cell_type": "code",
   "execution_count": null,
   "metadata": {
    "id": "UeDhIUSDvxQi"
   },
   "outputs": [],
   "source": [
    "def svm_model(x_train, x_test, y_train, y_test, cv=5, show_results=False):\n",
    "  hyper_params = {\n",
    "    'kernel': ['linear', 'rbf', 'poly'],\n",
    "    'C': [0.1, 1],\n",
    "    'gamma': [0.01, 0.1, 1]\n",
    "    }\n",
    "  hyper_params = {}\n",
    "\n",
    "  return modeling(SVC(), x_train, x_test, y_train, y_test, hyper_params, \"SVM\", cv=cv, show_results=show_results)"
   ]
  },
  {
   "cell_type": "code",
   "execution_count": null,
   "metadata": {
    "id": "iX6dduDXvykG"
   },
   "outputs": [],
   "source": [
    "def xgboost_model(x_train, x_test, y_train, y_test, cv=5, show_results=False):\n",
    "  hyper_params = {\n",
    "    'n_estimators': range(60, 90, 40),\n",
    "    'max_depth': range(2, 10, 1),\n",
    "    \"learning_rate\": [0.1, 0.01, 0.05]\n",
    "    }\n",
    "\n",
    "  xgb_model = xgb.XGBClassifier()\n",
    "  return modeling(xgb_model, x_train, x_test, y_train, y_test, hyper_params, \"XGBoost\", cv=cv, show_results=show_results)"
   ]
  },
  {
   "cell_type": "code",
   "execution_count": null,
   "metadata": {
    "id": "qv1ajqGtvzye"
   },
   "outputs": [],
   "source": [
    "def results_as_series(search_algorithm, x_test, y_test, indexes):\n",
    "  y_pred = search_algorithm.predict(x_test)\n",
    "\n",
    "  accuracy = accuracy_score(y_test, y_pred)\n",
    "  precision = precision_score(y_test, y_pred)\n",
    "  recall = recall_score(y_test, y_pred)\n",
    "  best_params = search_algorithm.best_params_\n",
    "  confusion_mat = confusion_matrix(y_test, y_pred)\n",
    "\n",
    "  return pd.Series([accuracy, precision, recall, best_params, confusion_mat], index=indexes)\n",
    "\n",
    "def results_as_dataframe(x_test, y_test, models):\n",
    "  indexes = ['accuracy', 'precision', 'recall', 'best_params', 'confusion_matrix']\n",
    "  results = pd.DataFrame(index=indexes)\n",
    "\n",
    "  for model in models:\n",
    "    grid, rand = models[model]\n",
    "\n",
    "    grid_series = results_as_series(grid, x_test, y_test, indexes)\n",
    "    rand_series = results_as_series(rand, x_test, y_test, indexes)\n",
    "\n",
    "    results[model + \"_grid\"] = grid_series\n",
    "    results[model + \"_random\"] = rand_series\n",
    "\n",
    "  return results.T"
   ]
  },
  {
   "cell_type": "code",
   "execution_count": null,
   "metadata": {
    "id": "DWJzt_5Yv1kn"
   },
   "outputs": [],
   "source": [
    "import time\n",
    "\n",
    "class Cal_Time():\n",
    "  def __init__(self):\n",
    "    self.start_time = time.process_time()\n",
    "\n",
    "  def cal(self):\n",
    "    end_time = time.process_time()\n",
    "    diff_time = end_time - self.start_time\n",
    "    return \"Execution Time: \" + str(diff_time)\n"
   ]
  },
  {
   "cell_type": "markdown",
   "metadata": {
    "id": "w7SnK6YQ46Gj"
   },
   "source": [
    "## Output Functions:"
   ]
  },
  {
   "cell_type": "code",
   "execution_count": null,
   "metadata": {
    "id": "C8CZ-FAjwWCW"
   },
   "outputs": [],
   "source": [
    "def get_best_model(search_algorithm):\n",
    "  estimator = search_algorithm.estimator\n",
    "  estimator.set_params(**search_algorithm.best_params_)\n",
    "  return estimator\n",
    "\n",
    "\n",
    "def stacking(x_train, x_test, y_train, y_test, models, show_results=False):\n",
    "  stacking = StackingClassifier(estimators=models, final_estimator=LogisticRegression())\n",
    "  stacking.fit(x_train, y_train)\n",
    "\n",
    "  if show_results:\n",
    "    evaluate_model(stacking, x_test, y_test, \"Stacking\")\n",
    "  \n",
    "  return stacking\n"
   ]
  },
  {
   "cell_type": "code",
   "execution_count": null,
   "metadata": {
    "id": "yKhp0iNs44As"
   },
   "outputs": [],
   "source": [
    "def fit_all(x_train, x_train_scaled, x_test, x_test_scaled, y_train, y_test, cv=5,\n",
    "            knn=True, logistics=True, tree=True, rf=True, svm=True, xgb=True, pre_label='', post_label='', show_results=False):\n",
    "  results_dict = {}\n",
    "  grid_label = ' Grid'\n",
    "  rand_label = ' Random'\n",
    "\n",
    "  if knn:\n",
    "    knn_grid, knn_rand = knn_model(x_train_scaled, x_test_scaled, y_train, y_test, cv=cv, show_results=show_results);\n",
    "    name = 'KNN'\n",
    "    results_dict[pre_label+name+grid_label+post_label] = knn_grid\n",
    "    results_dict[pre_label+name+rand_label+post_label] = knn_rand\n",
    "  if logistics:\n",
    "    log_grid, log_rand = logistic_model(x_train_scaled, x_test_scaled, y_train, y_test, cv=cv, show_results=show_results);\n",
    "    name = 'Logistic'\n",
    "    results_dict[pre_label+name+grid_label+post_label] = log_grid\n",
    "    results_dict[pre_label+name+rand_label+post_label] = log_rand\n",
    "  if tree:\n",
    "    tree_grid, tree_rand = decision_tree_model(x_train, x_test, y_train, y_test, cv=cv, show_results=show_results);\n",
    "    name = 'Decision Tree'\n",
    "    results_dict[pre_label+name+grid_label+post_label] = tree_grid\n",
    "    results_dict[pre_label+name+rand_label+post_label] = tree_rand\n",
    "  if rf:\n",
    "    rf_grid, rf_rand = random_forest_model(x_train, x_test, y_train, y_test, cv=cv, show_results=show_results);\n",
    "    name = 'Random Forest'\n",
    "    results_dict[pre_label+name+grid_label+post_label] = rf_grid\n",
    "    results_dict[pre_label+name+rand_label+post_label] = rf_rand\n",
    "  if svm:\n",
    "    svm_grid, svm_rand = svm_model(x_train_scaled, x_test_scaled, y_train, y_test, cv=cv, show_results=show_results);\n",
    "    name = 'SVM'\n",
    "    results_dict[pre_label+name+grid_label+post_label] = svm_grid\n",
    "    results_dict[pre_label+name+rand_label+post_label] = svm_rand\n",
    "  if xgb:\n",
    "    xgb_grid, xgb_rand = xgboost_model(x_train, x_test, y_train, y_test, cv=cv, show_results=show_results);\n",
    "    name = 'XGBoost'\n",
    "    results_dict[pre_label+name+grid_label+post_label] = xgb_grid\n",
    "    results_dict[pre_label+name+rand_label+post_label] = xgb_rand\n",
    "\n",
    "  models = [('KNN', get_best_model(knn_grid)),\n",
    "          ('Logistics', get_best_model(log_grid)),\n",
    "          ('Tree', get_best_model(tree_grid)),\n",
    "          ('Random Forest', get_best_model(rf_grid)),\n",
    "          #('SVM', get_best_model(svm_grid)),\n",
    "          ('XGBoost', get_best_model(xgb_grid))]\n",
    "\n",
    "  name = 'Stacking'\n",
    "  results_dict[pre_label+name+post_label] = stacking(x_train, x_test, y_train, y_test, models, show_results=show_results) \n",
    "  return results_dict\n",
    "\n"
   ]
  },
  {
   "cell_type": "markdown",
   "metadata": {
    "id": "zSXoQcUr2t8V"
   },
   "source": [
    "---\n",
    "# **Classification Predictions:**"
   ]
  },
  {
   "cell_type": "markdown",
   "metadata": {
    "id": "8XnEvJlqdnEl"
   },
   "source": [
    "### Imbalance:"
   ]
  },
  {
   "cell_type": "code",
   "execution_count": null,
   "metadata": {
    "colab": {
     "base_uri": "https://localhost:8080/",
     "height": 1000
    },
    "id": "8QfNTrmmre0X",
    "outputId": "53013a0a-7ea9-45c6-a0c0-00c27d057b85"
   },
   "outputs": [
    {
     "name": "stdout",
     "output_type": "stream",
     "text": [
      "Fitting 5 folds for each of 30 candidates, totalling 150 fits\n",
      "***********************************************************************\n",
      "#KNN Grid Search:\n",
      "--------------------------------------------------\n",
      "\tBest Score:  0.786463996623642\n",
      "\tBest Parameters:  {'n_neighbors': 15, 'weights': 'uniform'}\n",
      "\tBest Estimators:  KNeighborsClassifier(n_neighbors=15)\n",
      "\tAccuracy Score: 0.781180728342004\n",
      "\n",
      "\n",
      "              precision    recall  f1-score   support\n",
      "\n",
      "           0       0.33      0.08      0.12      4477\n",
      "           1       0.80      0.96      0.87     17628\n",
      "\n",
      "    accuracy                           0.78     22105\n",
      "   macro avg       0.57      0.52      0.50     22105\n",
      "weighted avg       0.71      0.78      0.72     22105\n",
      "\n",
      "--------------------------------------------------\n",
      "Confusion Matrix:\n"
     ]
    },
    {
     "data": {
      "image/png": "[encoded data removed]",
      "text/plain": [
       "<Figure size 432x288 with 2 Axes>"
      ]
     },
     "metadata": {
      "needs_background": "light"
     },
     "output_type": "display_data"
    },
    {
     "name": "stdout",
     "output_type": "stream",
     "text": [
      "***********************************************************************\n",
      "\n",
      "\n",
      "Fitting 5 folds for each of 10 candidates, totalling 50 fits\n",
      "***********************************************************************\n",
      "#KNN Random Search:\n",
      "--------------------------------------------------\n",
      "\tBest Score:  0.7779474368673478\n",
      "\tBest Parameters:  {'weights': 'uniform', 'n_neighbors': 14}\n",
      "\tBest Estimators:  KNeighborsClassifier(n_neighbors=14)\n",
      "\tAccuracy Score: 0.7748020809771545\n",
      "\n",
      "\n",
      "              precision    recall  f1-score   support\n",
      "\n",
      "           0       0.34      0.11      0.17      4477\n",
      "           1       0.81      0.94      0.87     17628\n",
      "\n",
      "    accuracy                           0.77     22105\n",
      "   macro avg       0.57      0.53      0.52     22105\n",
      "weighted avg       0.71      0.77      0.73     22105\n",
      "\n",
      "--------------------------------------------------\n",
      "Confusion Matrix:\n"
     ]
    },
    {
     "data": {
      "image/png": "[encoded data removed]",
      "text/plain": [
       "<Figure size 432x288 with 2 Axes>"
      ]
     },
     "metadata": {
      "needs_background": "light"
     },
     "output_type": "display_data"
    },
    {
     "name": "stdout",
     "output_type": "stream",
     "text": [
      "***********************************************************************\n",
      "\n",
      "\n",
      "Fitting 5 folds for each of 16 candidates, totalling 80 fits\n",
      "***********************************************************************\n",
      "#Logistic Grid Search:\n",
      "--------------------------------------------------\n",
      "\tBest Score:  0.7938608381544833\n",
      "\tBest Parameters:  {'C': 0.5, 'penalty': 'l1', 'solver': 'liblinear'}\n",
      "\tBest Estimators:  LogisticRegression(C=0.5, penalty='l1', solver='liblinear')\n",
      "\tAccuracy Score: 0.793033250395838\n",
      "\n",
      "\n",
      "              precision    recall  f1-score   support\n",
      "\n",
      "           0       0.33      0.02      0.04      4477\n",
      "           1       0.80      0.99      0.88     17628\n",
      "\n",
      "    accuracy                           0.79     22105\n",
      "   macro avg       0.56      0.51      0.46     22105\n",
      "weighted avg       0.70      0.79      0.71     22105\n",
      "\n",
      "--------------------------------------------------\n",
      "Confusion Matrix:\n"
     ]
    },
    {
     "data": {
      "image/png": "[encoded data removed]",
      "text/plain": [
       "<Figure size 432x288 with 2 Axes>"
      ]
     },
     "metadata": {
      "needs_background": "light"
     },
     "output_type": "display_data"
    },
    {
     "name": "stdout",
     "output_type": "stream",
     "text": [
      "***********************************************************************\n",
      "\n",
      "\n",
      "Fitting 5 folds for each of 10 candidates, totalling 50 fits\n",
      "***********************************************************************\n",
      "#Logistic Random Search:\n",
      "--------------------------------------------------\n",
      "\tBest Score:  0.7938608381544833\n",
      "\tBest Parameters:  {'solver': 'saga', 'penalty': 'l1', 'C': 0.6}\n",
      "\tBest Estimators:  LogisticRegression(C=0.6, penalty='l1', solver='saga')\n",
      "\tAccuracy Score: 0.793033250395838\n",
      "\n",
      "\n",
      "              precision    recall  f1-score   support\n",
      "\n",
      "           0       0.33      0.02      0.04      4477\n",
      "           1       0.80      0.99      0.88     17628\n",
      "\n",
      "    accuracy                           0.79     22105\n",
      "   macro avg       0.56      0.51      0.46     22105\n",
      "weighted avg       0.70      0.79      0.71     22105\n",
      "\n",
      "--------------------------------------------------\n",
      "Confusion Matrix:\n"
     ]
    },
    {
     "data": {
      "image/png": "[encoded data removed]",
      "text/plain": [
       "<Figure size 432x288 with 2 Axes>"
      ]
     },
     "metadata": {
      "needs_background": "light"
     },
     "output_type": "display_data"
    },
    {
     "name": "stdout",
     "output_type": "stream",
     "text": [
      "***********************************************************************\n",
      "\n",
      "\n",
      "Fitting 5 folds for each of 24 candidates, totalling 120 fits\n",
      "***********************************************************************\n",
      "#Decision Tree Grid Search:\n",
      "--------------------------------------------------\n",
      "\tBest Score:  0.7982604961183817\n",
      "\tBest Parameters:  {'criterion': 'gini', 'max_depth': 2, 'max_features': 'auto'}\n",
      "\tBest Estimators:  DecisionTreeClassifier(max_depth=2, max_features='auto')\n",
      "\tAccuracy Score: 0.7974666365075774\n",
      "\n",
      "\n",
      "              precision    recall  f1-score   support\n",
      "\n",
      "           0       0.00      0.00      0.00      4477\n",
      "           1       0.80      1.00      0.89     17628\n",
      "\n",
      "    accuracy                           0.80     22105\n",
      "   macro avg       0.40      0.50      0.44     22105\n",
      "weighted avg       0.64      0.80      0.71     22105\n",
      "\n",
      "--------------------------------------------------\n",
      "Confusion Matrix:\n"
     ]
    },
    {
     "name": "stderr",
     "output_type": "stream",
     "text": [
      "/usr/local/lib/python3.7/dist-packages/sklearn/metrics/_classification.py:1308: UndefinedMetricWarning:\n",
      "\n",
      "Precision and F-score are ill-defined and being set to 0.0 in labels with no predicted samples. Use `zero_division` parameter to control this behavior.\n",
      "\n",
      "/usr/local/lib/python3.7/dist-packages/sklearn/metrics/_classification.py:1308: UndefinedMetricWarning:\n",
      "\n",
      "Precision and F-score are ill-defined and being set to 0.0 in labels with no predicted samples. Use `zero_division` parameter to control this behavior.\n",
      "\n",
      "/usr/local/lib/python3.7/dist-packages/sklearn/metrics/_classification.py:1308: UndefinedMetricWarning:\n",
      "\n",
      "Precision and F-score are ill-defined and being set to 0.0 in labels with no predicted samples. Use `zero_division` parameter to control this behavior.\n",
      "\n"
     ]
    },
    {
     "data": {
      "image/png": "[encoded data removed]",
      "text/plain": [
       "<Figure size 432x288 with 2 Axes>"
      ]
     },
     "metadata": {
      "needs_background": "light"
     },
     "output_type": "display_data"
    },
    {
     "name": "stdout",
     "output_type": "stream",
     "text": [
      "***********************************************************************\n",
      "\n",
      "\n",
      "Fitting 5 folds for each of 10 candidates, totalling 50 fits\n",
      "***********************************************************************\n",
      "#Decision Tree Random Search:\n",
      "--------------------------------------------------\n",
      "\tBest Score:  0.7982604961183817\n",
      "\tBest Parameters:  {'max_features': 'log2', 'max_depth': 2, 'criterion': 'gini'}\n",
      "\tBest Estimators:  DecisionTreeClassifier(max_depth=2, max_features='log2')\n",
      "\tAccuracy Score: 0.7974666365075774\n",
      "\n",
      "\n",
      "              precision    recall  f1-score   support\n",
      "\n",
      "           0       0.00      0.00      0.00      4477\n",
      "           1       0.80      1.00      0.89     17628\n",
      "\n",
      "    accuracy                           0.80     22105\n",
      "   macro avg       0.40      0.50      0.44     22105\n",
      "weighted avg       0.64      0.80      0.71     22105\n",
      "\n",
      "--------------------------------------------------\n",
      "Confusion Matrix:\n"
     ]
    },
    {
     "name": "stderr",
     "output_type": "stream",
     "text": [
      "/usr/local/lib/python3.7/dist-packages/sklearn/metrics/_classification.py:1308: UndefinedMetricWarning:\n",
      "\n",
      "Precision and F-score are ill-defined and being set to 0.0 in labels with no predicted samples. Use `zero_division` parameter to control this behavior.\n",
      "\n",
      "/usr/local/lib/python3.7/dist-packages/sklearn/metrics/_classification.py:1308: UndefinedMetricWarning:\n",
      "\n",
      "Precision and F-score are ill-defined and being set to 0.0 in labels with no predicted samples. Use `zero_division` parameter to control this behavior.\n",
      "\n",
      "/usr/local/lib/python3.7/dist-packages/sklearn/metrics/_classification.py:1308: UndefinedMetricWarning:\n",
      "\n",
      "Precision and F-score are ill-defined and being set to 0.0 in labels with no predicted samples. Use `zero_division` parameter to control this behavior.\n",
      "\n"
     ]
    },
    {
     "data": {
      "image/png": "[encoded data removed]",
      "text/plain": [
       "<Figure size 432x288 with 2 Axes>"
      ]
     },
     "metadata": {
      "needs_background": "light"
     },
     "output_type": "display_data"
    },
    {
     "name": "stdout",
     "output_type": "stream",
     "text": [
      "***********************************************************************\n",
      "\n",
      "\n",
      "Fitting 5 folds for each of 36 candidates, totalling 180 fits\n",
      "***********************************************************************\n",
      "#Random Forest Grid Search:\n",
      "--------------------------------------------------\n",
      "\tBest Score:  0.7982604961183817\n",
      "\tBest Parameters:  {'criterion': 'gini', 'max_depth': 4, 'max_features': 'auto', 'n_estimators': 10}\n",
      "\tBest Estimators:  RandomForestClassifier(max_depth=4, n_estimators=10, random_state=71)\n",
      "\tAccuracy Score: 0.7974666365075774\n",
      "\n",
      "\n",
      "              precision    recall  f1-score   support\n",
      "\n",
      "           0       0.00      0.00      0.00      4477\n",
      "           1       0.80      1.00      0.89     17628\n",
      "\n",
      "    accuracy                           0.80     22105\n",
      "   macro avg       0.40      0.50      0.44     22105\n",
      "weighted avg       0.64      0.80      0.71     22105\n",
      "\n",
      "--------------------------------------------------\n",
      "Confusion Matrix:\n"
     ]
    },
    {
     "name": "stderr",
     "output_type": "stream",
     "text": [
      "/usr/local/lib/python3.7/dist-packages/sklearn/metrics/_classification.py:1308: UndefinedMetricWarning:\n",
      "\n",
      "Precision and F-score are ill-defined and being set to 0.0 in labels with no predicted samples. Use `zero_division` parameter to control this behavior.\n",
      "\n",
      "/usr/local/lib/python3.7/dist-packages/sklearn/metrics/_classification.py:1308: UndefinedMetricWarning:\n",
      "\n",
      "Precision and F-score are ill-defined and being set to 0.0 in labels with no predicted samples. Use `zero_division` parameter to control this behavior.\n",
      "\n",
      "/usr/local/lib/python3.7/dist-packages/sklearn/metrics/_classification.py:1308: UndefinedMetricWarning:\n",
      "\n",
      "Precision and F-score are ill-defined and being set to 0.0 in labels with no predicted samples. Use `zero_division` parameter to control this behavior.\n",
      "\n"
     ]
    },
    {
     "data": {
      "image/png": "[encoded data removed]",
      "text/plain": [
       "<Figure size 432x288 with 2 Axes>"
      ]
     },
     "metadata": {
      "needs_background": "light"
     },
     "output_type": "display_data"
    },
    {
     "name": "stdout",
     "output_type": "stream",
     "text": [
      "***********************************************************************\n",
      "\n",
      "\n",
      "Fitting 5 folds for each of 10 candidates, totalling 50 fits\n",
      "***********************************************************************\n",
      "#Random Forest Random Search:\n",
      "--------------------------------------------------\n",
      "\tBest Score:  0.7982604961183817\n",
      "\tBest Parameters:  {'n_estimators': 20, 'max_features': 'sqrt', 'max_depth': 7, 'criterion': 'entropy'}\n",
      "\tBest Estimators:  RandomForestClassifier(criterion='entropy', max_depth=7, max_features='sqrt',\n",
      "                       n_estimators=20, random_state=71)\n",
      "\tAccuracy Score: 0.7974666365075774\n",
      "\n",
      "\n",
      "              precision    recall  f1-score   support\n",
      "\n",
      "           0       0.00      0.00      0.00      4477\n",
      "           1       0.80      1.00      0.89     17628\n",
      "\n",
      "    accuracy                           0.80     22105\n",
      "   macro avg       0.40      0.50      0.44     22105\n",
      "weighted avg       0.64      0.80      0.71     22105\n",
      "\n",
      "--------------------------------------------------\n",
      "Confusion Matrix:\n"
     ]
    },
    {
     "name": "stderr",
     "output_type": "stream",
     "text": [
      "/usr/local/lib/python3.7/dist-packages/sklearn/metrics/_classification.py:1308: UndefinedMetricWarning:\n",
      "\n",
      "Precision and F-score are ill-defined and being set to 0.0 in labels with no predicted samples. Use `zero_division` parameter to control this behavior.\n",
      "\n",
      "/usr/local/lib/python3.7/dist-packages/sklearn/metrics/_classification.py:1308: UndefinedMetricWarning:\n",
      "\n",
      "Precision and F-score are ill-defined and being set to 0.0 in labels with no predicted samples. Use `zero_division` parameter to control this behavior.\n",
      "\n",
      "/usr/local/lib/python3.7/dist-packages/sklearn/metrics/_classification.py:1308: UndefinedMetricWarning:\n",
      "\n",
      "Precision and F-score are ill-defined and being set to 0.0 in labels with no predicted samples. Use `zero_division` parameter to control this behavior.\n",
      "\n"
     ]
    },
    {
     "data": {
      "image/png": "[encoded data removed]",
      "text/plain": [
       "<Figure size 432x288 with 2 Axes>"
      ]
     },
     "metadata": {
      "needs_background": "light"
     },
     "output_type": "display_data"
    },
    {
     "name": "stdout",
     "output_type": "stream",
     "text": [
      "***********************************************************************\n",
      "\n",
      "\n",
      "Fitting 5 folds for each of 24 candidates, totalling 120 fits\n",
      "***********************************************************************\n",
      "#XGBoost Grid Search:\n",
      "--------------------------------------------------\n",
      "\tBest Score:  0.7983170469689356\n",
      "\tBest Parameters:  {'learning_rate': 0.05, 'max_depth': 7, 'n_estimators': 60}\n",
      "\tBest Estimators:  XGBClassifier(learning_rate=0.05, max_depth=7, n_estimators=60)\n",
      "\tAccuracy Score: 0.7972404433386112\n",
      "\n",
      "\n",
      "              precision    recall  f1-score   support\n",
      "\n",
      "           0       0.33      0.00      0.00      4477\n",
      "           1       0.80      1.00      0.89     17628\n",
      "\n",
      "    accuracy                           0.80     22105\n",
      "   macro avg       0.57      0.50      0.44     22105\n",
      "weighted avg       0.70      0.80      0.71     22105\n",
      "\n",
      "--------------------------------------------------\n",
      "Confusion Matrix:\n"
     ]
    },
    {
     "data": {
      "image/png": "[encoded data removed]",
      "text/plain": [
       "<Figure size 432x288 with 2 Axes>"
      ]
     },
     "metadata": {
      "needs_background": "light"
     },
     "output_type": "display_data"
    },
    {
     "name": "stdout",
     "output_type": "stream",
     "text": [
      "***********************************************************************\n",
      "\n",
      "\n",
      "Fitting 5 folds for each of 10 candidates, totalling 50 fits\n",
      "***********************************************************************\n",
      "#XGBoost Random Search:\n",
      "--------------------------------------------------\n",
      "\tBest Score:  0.798271806416408\n",
      "\tBest Parameters:  {'n_estimators': 60, 'max_depth': 5, 'learning_rate': 0.05}\n",
      "\tBest Estimators:  XGBClassifier(learning_rate=0.05, max_depth=5, n_estimators=60)\n",
      "\tAccuracy Score: 0.7974666365075774\n",
      "\n",
      "\n",
      "              precision    recall  f1-score   support\n",
      "\n",
      "           0       0.00      0.00      0.00      4477\n",
      "           1       0.80      1.00      0.89     17628\n",
      "\n",
      "    accuracy                           0.80     22105\n",
      "   macro avg       0.40      0.50      0.44     22105\n",
      "weighted avg       0.64      0.80      0.71     22105\n",
      "\n",
      "--------------------------------------------------\n",
      "Confusion Matrix:\n"
     ]
    },
    {
     "name": "stderr",
     "output_type": "stream",
     "text": [
      "/usr/local/lib/python3.7/dist-packages/sklearn/metrics/_classification.py:1308: UndefinedMetricWarning:\n",
      "\n",
      "Precision and F-score are ill-defined and being set to 0.0 in labels with no predicted samples. Use `zero_division` parameter to control this behavior.\n",
      "\n",
      "/usr/local/lib/python3.7/dist-packages/sklearn/metrics/_classification.py:1308: UndefinedMetricWarning:\n",
      "\n",
      "Precision and F-score are ill-defined and being set to 0.0 in labels with no predicted samples. Use `zero_division` parameter to control this behavior.\n",
      "\n",
      "/usr/local/lib/python3.7/dist-packages/sklearn/metrics/_classification.py:1308: UndefinedMetricWarning:\n",
      "\n",
      "Precision and F-score are ill-defined and being set to 0.0 in labels with no predicted samples. Use `zero_division` parameter to control this behavior.\n",
      "\n"
     ]
    },
    {
     "data": {
      "image/png": "[encoded data removed]",
      "text/plain": [
       "<Figure size 432x288 with 2 Axes>"
      ]
     },
     "metadata": {
      "needs_background": "light"
     },
     "output_type": "display_data"
    },
    {
     "name": "stdout",
     "output_type": "stream",
     "text": [
      "***********************************************************************\n",
      "\n",
      "\n",
      "***********************************************************************\n",
      "#Stacking:\n",
      "--------------------------------------------------\n",
      "\tAccuracy Score: 0.7974213978737842\n",
      "\n",
      "\n",
      "              precision    recall  f1-score   support\n",
      "\n",
      "           0       0.43      0.00      0.00      4477\n",
      "           1       0.80      1.00      0.89     17628\n",
      "\n",
      "    accuracy                           0.80     22105\n",
      "   macro avg       0.61      0.50      0.44     22105\n",
      "weighted avg       0.72      0.80      0.71     22105\n",
      "\n",
      "--------------------------------------------------\n",
      "Confusion Matrix:\n"
     ]
    },
    {
     "data": {
      "image/png": "[encoded data removed]",
      "text/plain": [
       "<Figure size 432x288 with 2 Axes>"
      ]
     },
     "metadata": {
      "needs_background": "light"
     },
     "output_type": "display_data"
    },
    {
     "name": "stdout",
     "output_type": "stream",
     "text": [
      "***********************************************************************\n",
      "\n",
      "\n"
     ]
    }
   ],
   "source": [
    "results_imbalance = fit_all(x_train_selected, x_train_selected_scaled,\n",
    "                  x_test_selected, x_test_selected_scaled,\n",
    "                  y_train, y_test,\n",
    "                  svm=False, show_results=True)"
   ]
  },
  {
   "cell_type": "markdown",
   "metadata": {
    "id": "Ro6bxtKWds4Q"
   },
   "source": [
    "### SMOTE:"
   ]
  },
  {
   "cell_type": "code",
   "execution_count": null,
   "metadata": {
    "colab": {
     "base_uri": "https://localhost:8080/"
    },
    "id": "2PKA4RH_g6Yu",
    "outputId": "887c1e1b-4cb3-4d62-c6c2-8d62198bf144"
   },
   "outputs": [
    {
     "data": {
      "text/plain": [
       "88416"
      ]
     },
     "execution_count": 65,
     "metadata": {},
     "output_type": "execute_result"
    }
   ],
   "source": [
    "len(x_over_selected_scaled)"
   ]
  },
  {
   "cell_type": "code",
   "execution_count": null,
   "metadata": {
    "colab": {
     "base_uri": "https://localhost:8080/",
     "height": 1000
    },
    "id": "FpUq8yhlyZPV",
    "outputId": "12683ff7-d36d-4045-e685-1d9070d30814"
   },
   "outputs": [
    {
     "name": "stdout",
     "output_type": "stream",
     "text": [
      "Fitting 5 folds for each of 30 candidates, totalling 150 fits\n",
      "***********************************************************************\n",
      "#KNN Grid Search:\n",
      "--------------------------------------------------\n",
      "\tBest Score:  0.6324473668581209\n",
      "\tBest Parameters:  {'n_neighbors': 14, 'weights': 'distance'}\n",
      "\tBest Estimators:  KNeighborsClassifier(n_neighbors=14, weights='distance')\n",
      "\tAccuracy Score: 0.6097263062655508\n",
      "\n",
      "\n",
      "              precision    recall  f1-score   support\n",
      "\n",
      "           0       0.26      0.50      0.34      4477\n",
      "           1       0.83      0.64      0.72     17628\n",
      "\n",
      "    accuracy                           0.61     22105\n",
      "   macro avg       0.55      0.57      0.53     22105\n",
      "weighted avg       0.72      0.61      0.65     22105\n",
      "\n",
      "--------------------------------------------------\n",
      "Confusion Matrix:\n"
     ]
    },
    {
     "data": {
      "image/png": "[encoded data removed]",
      "text/plain": [
       "<Figure size 432x288 with 2 Axes>"
      ]
     },
     "metadata": {
      "needs_background": "light"
     },
     "output_type": "display_data"
    },
    {
     "name": "stdout",
     "output_type": "stream",
     "text": [
      "***********************************************************************\n",
      "\n",
      "\n",
      "Fitting 5 folds for each of 10 candidates, totalling 50 fits\n",
      "***********************************************************************\n",
      "#KNN Random Search:\n",
      "--------------------------------------------------\n",
      "\tBest Score:  0.627190826673748\n",
      "\tBest Parameters:  {'weights': 'uniform', 'n_neighbors': 14}\n",
      "\tBest Estimators:  KNeighborsClassifier(n_neighbors=14)\n",
      "\tAccuracy Score: 0.6014928749151776\n",
      "\n",
      "\n",
      "              precision    recall  f1-score   support\n",
      "\n",
      "           0       0.26      0.53      0.35      4477\n",
      "           1       0.84      0.62      0.71     17628\n",
      "\n",
      "    accuracy                           0.60     22105\n",
      "   macro avg       0.55      0.58      0.53     22105\n",
      "weighted avg       0.72      0.60      0.64     22105\n",
      "\n",
      "--------------------------------------------------\n",
      "Confusion Matrix:\n"
     ]
    },
    {
     "data": {
      "image/png": "[encoded data removed]",
      "text/plain": [
       "<Figure size 432x288 with 2 Axes>"
      ]
     },
     "metadata": {
      "needs_background": "light"
     },
     "output_type": "display_data"
    },
    {
     "name": "stdout",
     "output_type": "stream",
     "text": [
      "***********************************************************************\n",
      "\n",
      "\n",
      "Fitting 5 folds for each of 16 candidates, totalling 80 fits\n",
      "***********************************************************************\n",
      "#Logistic Grid Search:\n",
      "--------------------------------------------------\n",
      "\tBest Score:  0.6217784409958168\n",
      "\tBest Parameters:  {'C': 0.5, 'penalty': 'l1', 'solver': 'liblinear'}\n",
      "\tBest Estimators:  LogisticRegression(C=0.5, penalty='l1', solver='liblinear')\n",
      "\tAccuracy Score: 0.675322325265777\n",
      "\n",
      "\n",
      "              precision    recall  f1-score   support\n",
      "\n",
      "           0       0.33      0.57      0.41      4477\n",
      "           1       0.86      0.70      0.78     17628\n",
      "\n",
      "    accuracy                           0.68     22105\n",
      "   macro avg       0.60      0.63      0.59     22105\n",
      "weighted avg       0.76      0.68      0.70     22105\n",
      "\n",
      "--------------------------------------------------\n",
      "Confusion Matrix:\n"
     ]
    },
    {
     "data": {
      "image/png": "[encoded data removed]",
      "text/plain": [
       "<Figure size 432x288 with 2 Axes>"
      ]
     },
     "metadata": {
      "needs_background": "light"
     },
     "output_type": "display_data"
    },
    {
     "name": "stdout",
     "output_type": "stream",
     "text": [
      "***********************************************************************\n",
      "\n",
      "\n",
      "Fitting 5 folds for each of 10 candidates, totalling 50 fits\n",
      "***********************************************************************\n",
      "#Logistic Random Search:\n",
      "--------------------------------------------------\n",
      "\tBest Score:  0.6218067776350914\n",
      "\tBest Parameters:  {'solver': 'saga', 'penalty': 'l1', 'C': 0.5}\n",
      "\tBest Estimators:  LogisticRegression(C=0.5, penalty='l1', solver='saga')\n",
      "\tAccuracy Score: 0.675322325265777\n",
      "\n",
      "\n",
      "              precision    recall  f1-score   support\n",
      "\n",
      "           0       0.33      0.57      0.41      4477\n",
      "           1       0.86      0.70      0.78     17628\n",
      "\n",
      "    accuracy                           0.68     22105\n",
      "   macro avg       0.60      0.63      0.59     22105\n",
      "weighted avg       0.76      0.68      0.70     22105\n",
      "\n",
      "--------------------------------------------------\n",
      "Confusion Matrix:\n"
     ]
    },
    {
     "data": {
      "image/png": "[encoded data removed]",
      "text/plain": [
       "<Figure size 432x288 with 2 Axes>"
      ]
     },
     "metadata": {
      "needs_background": "light"
     },
     "output_type": "display_data"
    },
    {
     "name": "stdout",
     "output_type": "stream",
     "text": [
      "***********************************************************************\n",
      "\n",
      "\n",
      "Fitting 5 folds for each of 24 candidates, totalling 120 fits\n",
      "***********************************************************************\n",
      "#Decision Tree Grid Search:\n",
      "--------------------------------------------------\n",
      "\tBest Score:  0.6761785042255378\n",
      "\tBest Parameters:  {'criterion': 'gini', 'max_depth': 10, 'max_features': 'log2'}\n",
      "\tBest Estimators:  DecisionTreeClassifier(max_depth=10, max_features='log2')\n",
      "\tAccuracy Score: 0.5862022166930558\n",
      "\n",
      "\n",
      "              precision    recall  f1-score   support\n",
      "\n",
      "           0       0.30      0.79      0.44      4477\n",
      "           1       0.91      0.53      0.67     17628\n",
      "\n",
      "    accuracy                           0.59     22105\n",
      "   macro avg       0.61      0.66      0.56     22105\n",
      "weighted avg       0.79      0.59      0.63     22105\n",
      "\n",
      "--------------------------------------------------\n",
      "Confusion Matrix:\n"
     ]
    },
    {
     "data": {
      "image/png": "[encoded data removed]",
      "text/plain": [
       "<Figure size 432x288 with 2 Axes>"
      ]
     },
     "metadata": {
      "needs_background": "light"
     },
     "output_type": "display_data"
    },
    {
     "name": "stdout",
     "output_type": "stream",
     "text": [
      "***********************************************************************\n",
      "\n",
      "\n",
      "Fitting 5 folds for each of 10 candidates, totalling 50 fits\n",
      "***********************************************************************\n",
      "#Decision Tree Random Search:\n",
      "--------------------------------------------------\n",
      "\tBest Score:  0.6752008615639189\n",
      "\tBest Parameters:  {'max_features': 'sqrt', 'max_depth': 10, 'criterion': 'gini'}\n",
      "\tBest Estimators:  DecisionTreeClassifier(max_depth=10, max_features='sqrt')\n",
      "\tAccuracy Score: 0.5890974892558245\n",
      "\n",
      "\n",
      "              precision    recall  f1-score   support\n",
      "\n",
      "           0       0.30      0.78      0.43      4477\n",
      "           1       0.91      0.54      0.68     17628\n",
      "\n",
      "    accuracy                           0.59     22105\n",
      "   macro avg       0.60      0.66      0.56     22105\n",
      "weighted avg       0.78      0.59      0.63     22105\n",
      "\n",
      "--------------------------------------------------\n",
      "Confusion Matrix:\n"
     ]
    },
    {
     "data": {
      "image/png": "[encoded data removed]",
      "text/plain": [
       "<Figure size 432x288 with 2 Axes>"
      ]
     },
     "metadata": {
      "needs_background": "light"
     },
     "output_type": "display_data"
    },
    {
     "name": "stdout",
     "output_type": "stream",
     "text": [
      "***********************************************************************\n",
      "\n",
      "\n",
      "Fitting 5 folds for each of 36 candidates, totalling 180 fits\n",
      "***********************************************************************\n",
      "#Random Forest Grid Search:\n",
      "--------------------------------------------------\n",
      "\tBest Score:  0.6744640943885214\n",
      "\tBest Parameters:  {'criterion': 'gini', 'max_depth': 7, 'max_features': 'auto', 'n_estimators': 20}\n",
      "\tBest Estimators:  RandomForestClassifier(max_depth=7, n_estimators=20, random_state=71)\n",
      "\tAccuracy Score: 0.5781497398778557\n",
      "\n",
      "\n",
      "              precision    recall  f1-score   support\n",
      "\n",
      "           0       0.30      0.83      0.44      4477\n",
      "           1       0.92      0.51      0.66     17628\n",
      "\n",
      "    accuracy                           0.58     22105\n",
      "   macro avg       0.61      0.67      0.55     22105\n",
      "weighted avg       0.80      0.58      0.62     22105\n",
      "\n",
      "--------------------------------------------------\n",
      "Confusion Matrix:\n"
     ]
    },
    {
     "data": {
      "image/png": "[encoded data removed]",
      "text/plain": [
       "<Figure size 432x288 with 2 Axes>"
      ]
     },
     "metadata": {
      "needs_background": "light"
     },
     "output_type": "display_data"
    },
    {
     "name": "stdout",
     "output_type": "stream",
     "text": [
      "***********************************************************************\n",
      "\n",
      "\n",
      "Fitting 5 folds for each of 10 candidates, totalling 50 fits\n",
      "***********************************************************************\n",
      "#Random Forest Random Search:\n",
      "--------------------------------------------------\n",
      "\tBest Score:  0.6744640943885214\n",
      "\tBest Parameters:  {'n_estimators': 20, 'max_features': 'auto', 'max_depth': 7, 'criterion': 'gini'}\n",
      "\tBest Estimators:  RandomForestClassifier(max_depth=7, n_estimators=20, random_state=71)\n",
      "\tAccuracy Score: 0.5781497398778557\n",
      "\n",
      "\n",
      "              precision    recall  f1-score   support\n",
      "\n",
      "           0       0.30      0.83      0.44      4477\n",
      "           1       0.92      0.51      0.66     17628\n",
      "\n",
      "    accuracy                           0.58     22105\n",
      "   macro avg       0.61      0.67      0.55     22105\n",
      "weighted avg       0.80      0.58      0.62     22105\n",
      "\n",
      "--------------------------------------------------\n",
      "Confusion Matrix:\n"
     ]
    },
    {
     "data": {
      "image/png": "[encoded data removed]",
      "text/plain": [
       "<Figure size 432x288 with 2 Axes>"
      ]
     },
     "metadata": {
      "needs_background": "light"
     },
     "output_type": "display_data"
    },
    {
     "name": "stdout",
     "output_type": "stream",
     "text": [
      "***********************************************************************\n",
      "\n",
      "\n",
      "Fitting 5 folds for each of 24 candidates, totalling 120 fits\n",
      "***********************************************************************\n",
      "#XGBoost Grid Search:\n",
      "--------------------------------------------------\n",
      "\tBest Score:  0.6869820012705568\n",
      "\tBest Parameters:  {'learning_rate': 0.1, 'max_depth': 9, 'n_estimators': 60}\n",
      "\tBest Estimators:  XGBClassifier(max_depth=9, n_estimators=60)\n",
      "\tAccuracy Score: 0.5915856141144538\n",
      "\n",
      "\n",
      "              precision    recall  f1-score   support\n",
      "\n",
      "           0       0.30      0.79      0.44      4477\n",
      "           1       0.91      0.54      0.68     17628\n",
      "\n",
      "    accuracy                           0.59     22105\n",
      "   macro avg       0.61      0.67      0.56     22105\n",
      "weighted avg       0.79      0.59      0.63     22105\n",
      "\n",
      "--------------------------------------------------\n",
      "Confusion Matrix:\n"
     ]
    },
    {
     "data": {
      "image/png": "[encoded data removed]",
      "text/plain": [
       "<Figure size 432x288 with 2 Axes>"
      ]
     },
     "metadata": {
      "needs_background": "light"
     },
     "output_type": "display_data"
    },
    {
     "name": "stdout",
     "output_type": "stream",
     "text": [
      "***********************************************************************\n",
      "\n",
      "\n",
      "Fitting 5 folds for each of 10 candidates, totalling 50 fits\n",
      "***********************************************************************\n",
      "#XGBoost Random Search:\n",
      "--------------------------------------------------\n",
      "\tBest Score:  0.6823984901452465\n",
      "\tBest Parameters:  {'n_estimators': 60, 'max_depth': 9, 'learning_rate': 0.05}\n",
      "\tBest Estimators:  XGBClassifier(learning_rate=0.05, max_depth=9, n_estimators=60)\n",
      "\tAccuracy Score: 0.5890522506220313\n",
      "\n",
      "\n",
      "              precision    recall  f1-score   support\n",
      "\n",
      "           0       0.30      0.79      0.44      4477\n",
      "           1       0.91      0.54      0.68     17628\n",
      "\n",
      "    accuracy                           0.59     22105\n",
      "   macro avg       0.61      0.66      0.56     22105\n",
      "weighted avg       0.79      0.59      0.63     22105\n",
      "\n",
      "--------------------------------------------------\n",
      "Confusion Matrix:\n"
     ]
    },
    {
     "data": {
      "image/png": "[encoded data removed]",
      "text/plain": [
       "<Figure size 432x288 with 2 Axes>"
      ]
     },
     "metadata": {
      "needs_background": "light"
     },
     "output_type": "display_data"
    },
    {
     "name": "stdout",
     "output_type": "stream",
     "text": [
      "***********************************************************************\n",
      "\n",
      "\n",
      "***********************************************************************\n",
      "#Stacking:\n",
      "--------------------------------------------------\n",
      "\tAccuracy Score: 0.6221216919249039\n",
      "\n",
      "\n",
      "              precision    recall  f1-score   support\n",
      "\n",
      "           0       0.31      0.71      0.43      4477\n",
      "           1       0.89      0.60      0.72     17628\n",
      "\n",
      "    accuracy                           0.62     22105\n",
      "   macro avg       0.60      0.66      0.58     22105\n",
      "weighted avg       0.77      0.62      0.66     22105\n",
      "\n",
      "--------------------------------------------------\n",
      "Confusion Matrix:\n"
     ]
    },
    {
     "data": {
      "image/png": "[encoded data removed]",
      "text/plain": [
       "<Figure size 432x288 with 2 Axes>"
      ]
     },
     "metadata": {
      "needs_background": "light"
     },
     "output_type": "display_data"
    },
    {
     "name": "stdout",
     "output_type": "stream",
     "text": [
      "***********************************************************************\n",
      "\n",
      "\n"
     ]
    }
   ],
   "source": [
    "results_smote = fit_all(x_over_selected, x_over_selected_scaled,\n",
    "                  x_test_selected, x_test_selected_scaled,\n",
    "                  y_over, y_test,\n",
    "                  svm=False, show_results=True)"
   ]
  },
  {
   "cell_type": "markdown",
   "metadata": {
    "id": "dIrPdgBPdwv1"
   },
   "source": [
    "### SMOTE+TOMEK:"
   ]
  },
  {
   "cell_type": "code",
   "execution_count": null,
   "metadata": {
    "colab": {
     "base_uri": "https://localhost:8080/",
     "height": 1000
    },
    "id": "bJWGh66NdX31",
    "outputId": "9502c300-8b10-479f-b362-0a31d33b145f"
   },
   "outputs": [
    {
     "name": "stdout",
     "output_type": "stream",
     "text": [
      "Fitting 5 folds for each of 30 candidates, totalling 150 fits\n",
      "***********************************************************************\n",
      "#KNN Grid Search:\n",
      "--------------------------------------------------\n",
      "\tBest Score:  0.6301226167694379\n",
      "\tBest Parameters:  {'n_neighbors': 14, 'weights': 'distance'}\n",
      "\tBest Estimators:  KNeighborsClassifier(n_neighbors=14, weights='distance')\n",
      "\tAccuracy Score: 0.6040714770413933\n",
      "\n",
      "\n",
      "              precision    recall  f1-score   support\n",
      "\n",
      "           0       0.26      0.52      0.35      4477\n",
      "           1       0.84      0.63      0.72     17628\n",
      "\n",
      "    accuracy                           0.60     22105\n",
      "   macro avg       0.55      0.57      0.53     22105\n",
      "weighted avg       0.72      0.60      0.64     22105\n",
      "\n",
      "--------------------------------------------------\n",
      "Confusion Matrix:\n"
     ]
    },
    {
     "data": {
      "image/png": "[encoded data removed]",
      "text/plain": [
       "<Figure size 432x288 with 2 Axes>"
      ]
     },
     "metadata": {
      "needs_background": "light"
     },
     "output_type": "display_data"
    },
    {
     "name": "stdout",
     "output_type": "stream",
     "text": [
      "***********************************************************************\n",
      "\n",
      "\n",
      "Fitting 5 folds for each of 10 candidates, totalling 50 fits\n",
      "***********************************************************************\n",
      "#KNN Random Search:\n",
      "--------------------------------------------------\n",
      "\tBest Score:  0.6269473385782124\n",
      "\tBest Parameters:  {'weights': 'distance', 'n_neighbors': 12}\n",
      "\tBest Estimators:  KNeighborsClassifier(n_neighbors=12, weights='distance')\n",
      "\tAccuracy Score: 0.597557113775164\n",
      "\n",
      "\n",
      "              precision    recall  f1-score   support\n",
      "\n",
      "           0       0.26      0.52      0.34      4477\n",
      "           1       0.84      0.62      0.71     17628\n",
      "\n",
      "    accuracy                           0.60     22105\n",
      "   macro avg       0.55      0.57      0.53     22105\n",
      "weighted avg       0.72      0.60      0.64     22105\n",
      "\n",
      "--------------------------------------------------\n",
      "Confusion Matrix:\n"
     ]
    },
    {
     "data": {
      "image/png": "[encoded data removed]",
      "text/plain": [
       "<Figure size 432x288 with 2 Axes>"
      ]
     },
     "metadata": {
      "needs_background": "light"
     },
     "output_type": "display_data"
    },
    {
     "name": "stdout",
     "output_type": "stream",
     "text": [
      "***********************************************************************\n",
      "\n",
      "\n",
      "Fitting 5 folds for each of 16 candidates, totalling 80 fits\n",
      "***********************************************************************\n",
      "#Logistic Grid Search:\n",
      "--------------------------------------------------\n",
      "\tBest Score:  0.620405414983344\n",
      "\tBest Parameters:  {'C': 0.8, 'penalty': 'l2', 'solver': 'saga'}\n",
      "\tBest Estimators:  LogisticRegression(C=0.8, solver='saga')\n",
      "\tAccuracy Score: 0.6749151775616377\n",
      "\n",
      "\n",
      "              precision    recall  f1-score   support\n",
      "\n",
      "           0       0.33      0.57      0.41      4477\n",
      "           1       0.87      0.70      0.77     17628\n",
      "\n",
      "    accuracy                           0.67     22105\n",
      "   macro avg       0.60      0.64      0.59     22105\n",
      "weighted avg       0.76      0.67      0.70     22105\n",
      "\n",
      "--------------------------------------------------\n",
      "Confusion Matrix:\n"
     ]
    },
    {
     "data": {
      "image/png": "[encoded data removed]",
      "text/plain": [
       "<Figure size 432x288 with 2 Axes>"
      ]
     },
     "metadata": {
      "needs_background": "light"
     },
     "output_type": "display_data"
    },
    {
     "name": "stdout",
     "output_type": "stream",
     "text": [
      "***********************************************************************\n",
      "\n",
      "\n",
      "Fitting 5 folds for each of 10 candidates, totalling 50 fits\n",
      "***********************************************************************\n",
      "#Logistic Random Search:\n",
      "--------------------------------------------------\n",
      "\tBest Score:  0.62039832730881\n",
      "\tBest Parameters:  {'solver': 'saga', 'penalty': 'l1', 'C': 0.6}\n",
      "\tBest Estimators:  LogisticRegression(C=0.6, penalty='l1', solver='saga')\n",
      "\tAccuracy Score: 0.6749151775616377\n",
      "\n",
      "\n",
      "              precision    recall  f1-score   support\n",
      "\n",
      "           0       0.33      0.57      0.41      4477\n",
      "           1       0.87      0.70      0.77     17628\n",
      "\n",
      "    accuracy                           0.67     22105\n",
      "   macro avg       0.60      0.64      0.59     22105\n",
      "weighted avg       0.76      0.67      0.70     22105\n",
      "\n",
      "--------------------------------------------------\n",
      "Confusion Matrix:\n"
     ]
    },
    {
     "data": {
      "image/png": "[encoded data removed]",
      "text/plain": [
       "<Figure size 432x288 with 2 Axes>"
      ]
     },
     "metadata": {
      "needs_background": "light"
     },
     "output_type": "display_data"
    },
    {
     "name": "stdout",
     "output_type": "stream",
     "text": [
      "***********************************************************************\n",
      "\n",
      "\n",
      "Fitting 5 folds for each of 24 candidates, totalling 120 fits\n",
      "***********************************************************************\n",
      "#Decision Tree Grid Search:\n",
      "--------------------------------------------------\n",
      "\tBest Score:  0.675696364022964\n",
      "\tBest Parameters:  {'criterion': 'gini', 'max_depth': 10, 'max_features': 'log2'}\n",
      "\tBest Estimators:  DecisionTreeClassifier(max_depth=10, max_features='log2')\n",
      "\tAccuracy Score: 0.5926713413254919\n",
      "\n",
      "\n",
      "              precision    recall  f1-score   support\n",
      "\n",
      "           0       0.30      0.79      0.44      4477\n",
      "           1       0.91      0.54      0.68     17628\n",
      "\n",
      "    accuracy                           0.59     22105\n",
      "   macro avg       0.61      0.66      0.56     22105\n",
      "weighted avg       0.79      0.59      0.63     22105\n",
      "\n",
      "--------------------------------------------------\n",
      "Confusion Matrix:\n"
     ]
    },
    {
     "data": {
      "image/png": "[encoded data removed]",
      "text/plain": [
       "<Figure size 432x288 with 2 Axes>"
      ]
     },
     "metadata": {
      "needs_background": "light"
     },
     "output_type": "display_data"
    },
    {
     "name": "stdout",
     "output_type": "stream",
     "text": [
      "***********************************************************************\n",
      "\n",
      "\n",
      "Fitting 5 folds for each of 10 candidates, totalling 50 fits\n",
      "***********************************************************************\n",
      "#Decision Tree Random Search:\n",
      "--------------------------------------------------\n",
      "\tBest Score:  0.6759727833297895\n",
      "\tBest Parameters:  {'max_features': 'sqrt', 'max_depth': 10, 'criterion': 'gini'}\n",
      "\tBest Estimators:  DecisionTreeClassifier(max_depth=10, max_features='sqrt')\n",
      "\tAccuracy Score: 0.598597602352409\n",
      "\n",
      "\n",
      "              precision    recall  f1-score   support\n",
      "\n",
      "           0       0.31      0.78      0.44      4477\n",
      "           1       0.91      0.55      0.69     17628\n",
      "\n",
      "    accuracy                           0.60     22105\n",
      "   macro avg       0.61      0.67      0.56     22105\n",
      "weighted avg       0.79      0.60      0.64     22105\n",
      "\n",
      "--------------------------------------------------\n",
      "Confusion Matrix:\n"
     ]
    },
    {
     "data": {
      "image/png": "[encoded data removed]",
      "text/plain": [
       "<Figure size 432x288 with 2 Axes>"
      ]
     },
     "metadata": {
      "needs_background": "light"
     },
     "output_type": "display_data"
    },
    {
     "name": "stdout",
     "output_type": "stream",
     "text": [
      "***********************************************************************\n",
      "\n",
      "\n",
      "Fitting 5 folds for each of 36 candidates, totalling 180 fits\n",
      "***********************************************************************\n",
      "#Random Forest Grid Search:\n",
      "--------------------------------------------------\n",
      "\tBest Score:  0.6741796016726912\n",
      "\tBest Parameters:  {'criterion': 'gini', 'max_depth': 7, 'max_features': 'auto', 'n_estimators': 20}\n",
      "\tBest Estimators:  RandomForestClassifier(max_depth=7, n_estimators=20, random_state=71)\n",
      "\tAccuracy Score: 0.5809545351730377\n",
      "\n",
      "\n",
      "              precision    recall  f1-score   support\n",
      "\n",
      "           0       0.30      0.82      0.44      4477\n",
      "           1       0.92      0.52      0.66     17628\n",
      "\n",
      "    accuracy                           0.58     22105\n",
      "   macro avg       0.61      0.67      0.55     22105\n",
      "weighted avg       0.80      0.58      0.62     22105\n",
      "\n",
      "--------------------------------------------------\n",
      "Confusion Matrix:\n"
     ]
    },
    {
     "data": {
      "image/png": "[encoded data removed]",
      "text/plain": [
       "<Figure size 432x288 with 2 Axes>"
      ]
     },
     "metadata": {
      "needs_background": "light"
     },
     "output_type": "display_data"
    },
    {
     "name": "stdout",
     "output_type": "stream",
     "text": [
      "***********************************************************************\n",
      "\n",
      "\n",
      "Fitting 5 folds for each of 10 candidates, totalling 50 fits\n",
      "***********************************************************************\n",
      "#Random Forest Random Search:\n",
      "--------------------------------------------------\n",
      "\tBest Score:  0.6741796016726912\n",
      "\tBest Parameters:  {'n_estimators': 20, 'max_features': 'auto', 'max_depth': 7, 'criterion': 'gini'}\n",
      "\tBest Estimators:  RandomForestClassifier(max_depth=7, n_estimators=20, random_state=71)\n",
      "\tAccuracy Score: 0.5809545351730377\n",
      "\n",
      "\n",
      "              precision    recall  f1-score   support\n",
      "\n",
      "           0       0.30      0.82      0.44      4477\n",
      "           1       0.92      0.52      0.66     17628\n",
      "\n",
      "    accuracy                           0.58     22105\n",
      "   macro avg       0.61      0.67      0.55     22105\n",
      "weighted avg       0.80      0.58      0.62     22105\n",
      "\n",
      "--------------------------------------------------\n",
      "Confusion Matrix:\n"
     ]
    },
    {
     "data": {
      "image/png": "[encoded data removed]",
      "text/plain": [
       "<Figure size 432x288 with 2 Axes>"
      ]
     },
     "metadata": {
      "needs_background": "light"
     },
     "output_type": "display_data"
    },
    {
     "name": "stdout",
     "output_type": "stream",
     "text": [
      "***********************************************************************\n",
      "\n",
      "\n",
      "Fitting 5 folds for each of 24 candidates, totalling 120 fits\n",
      "***********************************************************************\n",
      "#XGBoost Grid Search:\n",
      "--------------------------------------------------\n",
      "\tBest Score:  0.6861294209369906\n",
      "\tBest Parameters:  {'learning_rate': 0.1, 'max_depth': 9, 'n_estimators': 60}\n",
      "\tBest Estimators:  XGBClassifier(max_depth=9, n_estimators=60)\n",
      "\tAccuracy Score: 0.5942546935082561\n",
      "\n",
      "\n",
      "              precision    recall  f1-score   support\n",
      "\n",
      "           0       0.31      0.79      0.44      4477\n",
      "           1       0.91      0.55      0.68     17628\n",
      "\n",
      "    accuracy                           0.59     22105\n",
      "   macro avg       0.61      0.67      0.56     22105\n",
      "weighted avg       0.79      0.59      0.63     22105\n",
      "\n",
      "--------------------------------------------------\n",
      "Confusion Matrix:\n"
     ]
    },
    {
     "data": {
      "image/png": "[encoded data removed]",
      "text/plain": [
       "<Figure size 432x288 with 2 Axes>"
      ]
     },
     "metadata": {
      "needs_background": "light"
     },
     "output_type": "display_data"
    },
    {
     "name": "stdout",
     "output_type": "stream",
     "text": [
      "***********************************************************************\n",
      "\n",
      "\n",
      "Fitting 5 folds for each of 10 candidates, totalling 50 fits\n",
      "***********************************************************************\n",
      "#XGBoost Random Search:\n",
      "--------------------------------------------------\n",
      "\tBest Score:  0.6826635480898717\n",
      "\tBest Parameters:  {'n_estimators': 60, 'max_depth': 9, 'learning_rate': 0.05}\n",
      "\tBest Estimators:  XGBClassifier(learning_rate=0.05, max_depth=9, n_estimators=60)\n",
      "\tAccuracy Score: 0.5910427505089346\n",
      "\n",
      "\n",
      "              precision    recall  f1-score   support\n",
      "\n",
      "           0       0.30      0.79      0.44      4477\n",
      "           1       0.91      0.54      0.68     17628\n",
      "\n",
      "    accuracy                           0.59     22105\n",
      "   macro avg       0.61      0.66      0.56     22105\n",
      "weighted avg       0.79      0.59      0.63     22105\n",
      "\n",
      "--------------------------------------------------\n",
      "Confusion Matrix:\n"
     ]
    },
    {
     "data": {
      "image/png": "[encoded data removed]",
      "text/plain": [
       "<Figure size 432x288 with 2 Axes>"
      ]
     },
     "metadata": {
      "needs_background": "light"
     },
     "output_type": "display_data"
    },
    {
     "name": "stdout",
     "output_type": "stream",
     "text": [
      "***********************************************************************\n",
      "\n",
      "\n",
      "***********************************************************************\n",
      "#Stacking:\n",
      "--------------------------------------------------\n",
      "\tAccuracy Score: 0.6212169192490387\n",
      "\n",
      "\n",
      "              precision    recall  f1-score   support\n",
      "\n",
      "           0       0.31      0.71      0.43      4477\n",
      "           1       0.89      0.60      0.72     17628\n",
      "\n",
      "    accuracy                           0.62     22105\n",
      "   macro avg       0.60      0.66      0.57     22105\n",
      "weighted avg       0.77      0.62      0.66     22105\n",
      "\n",
      "--------------------------------------------------\n",
      "Confusion Matrix:\n"
     ]
    },
    {
     "data": {
      "image/png": "[encoded data removed]",
      "text/plain": [
       "<Figure size 432x288 with 2 Axes>"
      ]
     },
     "metadata": {
      "needs_background": "light"
     },
     "output_type": "display_data"
    },
    {
     "name": "stdout",
     "output_type": "stream",
     "text": [
      "***********************************************************************\n",
      "\n",
      "\n"
     ]
    }
   ],
   "source": [
    "results_smote_tomek = fit_all(x_resamp_selected, x_resamp_selected_scaled,\n",
    "                  x_test_selected, x_test_selected_scaled,\n",
    "                  y_resamp, y_test,\n",
    "                  svm=False, show_results=True)"
   ]
  },
  {
   "cell_type": "markdown",
   "metadata": {
    "id": "rfz2aAHEoG4Q"
   },
   "source": [
    "---\n",
    "# **Best Model:**"
   ]
  },
  {
   "cell_type": "code",
   "execution_count": null,
   "metadata": {
    "colab": {
     "base_uri": "https://localhost:8080/",
     "height": 705
    },
    "id": "G6UzIXjBn99K",
    "outputId": "64478246-8c60-4db9-c441-e14934388578"
   },
   "outputs": [
    {
     "name": "stdout",
     "output_type": "stream",
     "text": [
      "***********************************************************************\n",
      "--------------------------------------------------\n",
      "\tAccuracy Score: 0.5780140239764759\n",
      "\n",
      "\n",
      "              precision    recall  f1-score   support\n",
      "\n",
      "           0       0.30      0.83      0.44      4477\n",
      "           1       0.92      0.51      0.66     17628\n",
      "\n",
      "    accuracy                           0.58     22105\n",
      "   macro avg       0.61      0.67      0.55     22105\n",
      "weighted avg       0.80      0.58      0.62     22105\n",
      "\n",
      "--------------------------------------------------\n",
      "Confusion Matrix:\n"
     ]
    },
    {
     "data": {
      "image/png": "[encoded data removed]",
      "text/plain": [
       "<Figure size 432x288 with 2 Axes>"
      ]
     },
     "metadata": {
      "needs_background": "light"
     },
     "output_type": "display_data"
    },
    {
     "name": "stdout",
     "output_type": "stream",
     "text": [
      "***********************************************************************\n",
      "\n",
      "\n",
      "Precision Score: 0.9216622637675269\n",
      "Recall Score: 0.5145790787383707\n",
      "F1 Score: 0.6604295595194757\n"
     ]
    }
   ],
   "source": [
    "rf = RandomForestClassifier(max_depth=7, n_estimators=20, random_state=71)\n",
    "rf.fit(x_over_selected, y_over)\n",
    "\n",
    "plt.show(block=False)\n",
    "\n",
    "y_pred = rf.predict(x_test_selected)\n",
    "print(\"***********************************************************************\")\n",
    "print(\"--------------------------------------------------\")\n",
    "print(\"\\tAccuracy Score: \" + str(accuracy_score(y_test, y_pred)) + '\\n\\n')\n",
    "print(classification_report(y_test, y_pred))\n",
    "print(\"--------------------------------------------------\")\n",
    "print(\"Confusion Matrix:\")\n",
    "rf_confusion_matrix = confusion_matrix(y_test, y_pred)\n",
    "rf_display = ConfusionMatrixDisplay(confusion_matrix=grid_confusion_matrix)\n",
    "rf_display.plot()\n",
    "plt.pause(1)\n",
    "plt.close()\n",
    "print(\"***********************************************************************\\n\\n\")\n",
    "print(\"Precision Score: \" + str(precision_score(y_test, y_pred)))\n",
    "print(\"Recall Score: \" + str(recall_score(y_test, y_pred)))\n",
    "print(\"F1 Score: \" + str(f1_score(y_test, y_pred)))\n"
   ]
  }
 ],
 "metadata": {
  "colab": {
   "collapsed_sections": [
    "58LjMAml3VG1",
    "AkiVZXI9vcyG",
    "jrMZ57tzBvvZ",
    "Bk1s6F-C3EhE",
    "w7SnK6YQ46Gj",
    "zSXoQcUr2t8V",
    "8XnEvJlqdnEl",
    "Ro6bxtKWds4Q",
    "dIrPdgBPdwv1",
    "rfz2aAHEoG4Q"
   ],
   "name": "no_show_modeling.ipynb",
   "provenance": []
  },
  "kernelspec": {
   "display_name": "Python 3",
   "language": "python",
   "name": "python3"
  },
  "language_info": {
   "codemirror_mode": {
    "name": "ipython",
    "version": 3
   },
   "file_extension": ".py",
   "mimetype": "text/x-python",
   "name": "python",
   "nbconvert_exporter": "python",
   "pygments_lexer": "ipython3",
   "version": "3.8.8"
  }
 },
 "nbformat": 4,
 "nbformat_minor": 1
}
